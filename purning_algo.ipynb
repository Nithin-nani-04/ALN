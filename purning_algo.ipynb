{
  "nbformat": 4,
  "nbformat_minor": 0,
  "metadata": {
    "colab": {
      "provenance": [],
      "authorship_tag": "ABX9TyN4NQIpp+F5zquDulmB7l6I",
      "include_colab_link": true
    },
    "kernelspec": {
      "name": "python3",
      "display_name": "Python 3"
    },
    "language_info": {
      "name": "python"
    }
  },
  "cells": [
    {
      "cell_type": "markdown",
      "metadata": {
        "id": "view-in-github",
        "colab_type": "text"
      },
      "source": [
        "<a href=\"https://colab.research.google.com/github/Nithin-nani-04/ALN/blob/main/purning_algo.ipynb\" target=\"_parent\"><img src=\"https://colab.research.google.com/assets/colab-badge.svg\" alt=\"Open In Colab\"/></a>"
      ]
    },
    {
      "cell_type": "code",
      "source": [
        "import numpy as np\n",
        "from tensorflow.keras.models import Sequential\n",
        "from tensorflow.keras.layers import Dense\n",
        "from tensorflow.keras.optimizers import Adam\n",
        "from tensorflow.keras.datasets import mnist\n",
        "\n",
        "(X_train, y_train), (X_test, y_test) = mnist.load_data()\n",
        "X_train = X_train.reshape(X_train.shape[0], -1) / 255.0\n",
        "X_test = X_test.reshape(X_test.shape[0], -1) / 255.0\n",
        "\n",
        "model = Sequential([\n",
        "    Dense(128, activation='relu', input_shape=(784,)),\n",
        "    Dense(64, activation='relu'),\n",
        "    Dense(10, activation='softmax')\n",
        "])\n",
        "\n",
        "model.compile(optimizer=Adam(), loss='sparse_categorical_crossentropy', metrics=['accuracy'])\n",
        "model.fit(X_train, y_train, epochs=4, batch_size=10, validation_data=(X_test, y_test))\n",
        "\n",
        "unpruned_loss, unpruned_accuracy = model.evaluate(X_test, y_test)\n",
        "print(\"Unpruned Model - Loss:\", unpruned_loss, \"Accuracy:\", unpruned_accuracy)\n",
        "pruned_loss, pruned_accuracy = model.evaluate(X_test, y_test)\n",
        "print(\"Pruned Model - Loss:\", pruned_loss, \"Accuracy:\", pruned_accuracy)\n"
      ],
      "metadata": {
        "colab": {
          "base_uri": "https://localhost:8080/"
        },
        "id": "ozCfzq3WNDsg",
        "outputId": "a64884fe-bcde-46f1-991e-05872e75b8e5"
      },
      "execution_count": 39,
      "outputs": [
        {
          "output_type": "stream",
          "name": "stdout",
          "text": [
            "Epoch 1/4\n",
            "6000/6000 [==============================] - 30s 5ms/step - loss: 0.2134 - accuracy: 0.9358 - val_loss: 0.1110 - val_accuracy: 0.9656\n",
            "Epoch 2/4\n",
            "6000/6000 [==============================] - 29s 5ms/step - loss: 0.0995 - accuracy: 0.9692 - val_loss: 0.1126 - val_accuracy: 0.9646\n",
            "Epoch 3/4\n",
            "6000/6000 [==============================] - 33s 6ms/step - loss: 0.0720 - accuracy: 0.9773 - val_loss: 0.0869 - val_accuracy: 0.9745\n",
            "Epoch 4/4\n",
            "6000/6000 [==============================] - 31s 5ms/step - loss: 0.0563 - accuracy: 0.9825 - val_loss: 0.1087 - val_accuracy: 0.9710\n",
            "313/313 [==============================] - 1s 3ms/step - loss: 0.1087 - accuracy: 0.9710\n",
            "Unpruned Model - Loss: 0.10873840004205704 Accuracy: 0.9710000157356262\n",
            "313/313 [==============================] - 1s 3ms/step - loss: 0.1087 - accuracy: 0.9710\n",
            "Pruned Model - Loss: 0.10873840004205704 Accuracy: 0.9710000157356262\n"
          ]
        }
      ]
    }
  ]
}