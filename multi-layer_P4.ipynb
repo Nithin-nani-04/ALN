{
  "nbformat": 4,
  "nbformat_minor": 0,
  "metadata": {
    "colab": {
      "provenance": [],
      "mount_file_id": "1G-p8T-jSI4AzrfQEt8wE7hPBY-XXCJSw",
      "authorship_tag": "ABX9TyNNJzi0cdmlynSw/0cy79tx",
      "include_colab_link": true
    },
    "kernelspec": {
      "name": "python3",
      "display_name": "Python 3"
    },
    "language_info": {
      "name": "python"
    }
  },
  "cells": [
    {
      "cell_type": "markdown",
      "metadata": {
        "id": "view-in-github",
        "colab_type": "text"
      },
      "source": [
        "<a href=\"https://colab.research.google.com/github/Nithin-nani-04/ALN/blob/main/multi-layer_P4.ipynb\" target=\"_parent\"><img src=\"https://colab.research.google.com/assets/colab-badge.svg\" alt=\"Open In Colab\"/></a>"
      ]
    },
    {
      "cell_type": "code",
      "execution_count": null,
      "metadata": {
        "colab": {
          "base_uri": "https://localhost:8080/"
        },
        "id": "ujtPFJ7Nexj9",
        "outputId": "34513093-3b5a-4d72-c176-c53237668e0c"
      },
      "outputs": [
        {
          "output_type": "stream",
          "name": "stdout",
          "text": [
            "learing rate:accuracy\n",
            "0.06 : 0.48355555555555557\n",
            "0.06999999999999999 : 0.48355555555555557\n",
            "0.08 : 0.43044444444444446\n",
            "0.09 : 0.43044444444444446\n",
            "0.1 : 0.43044444444444446\n",
            "0.11 : 0.43044444444444446\n",
            "0.12 : 0.43044444444444446\n",
            "0.13 : 0.43044444444444446\n",
            "0.14 : 0.43044444444444446\n",
            "0.15 : 0.43044444444444446\n",
            "the best learning rate is 0.06\n",
            "the accuracy is  0.48355555555555557\n"
          ]
        }
      ],
      "source": [
        "import numpy as np\n",
        "import pandas as pd\n",
        "data=pd.read_csv('HR_comma_sep.csv')\n",
        "from sklearn.metrics import accuracy_score\n",
        "from sklearn.preprocessing import LabelEncoder\n",
        "l_e=LabelEncoder()\n",
        "data['salary']=l_e.fit_transform(data['salary'])\n",
        "data['sales']=l_e.fit_transform(data['sales'])\n",
        "x=data.iloc[:,:-1]\n",
        "y=data['salary']\n",
        "from sklearn.model_selection import train_test_split\n",
        "x_train,x_test,y_train,y_test=train_test_split(x,y,test_size=0.3,random_state=101)\n",
        "from sklearn.neural_network import MLPClassifier\n",
        "l_r=0.06\n",
        "acc=float('-inf')\n",
        "\n",
        "print(\"learing rate:accuracy\")\n",
        "for i in range(10):\n",
        "    l_r=0.06+i/100\n",
        "    clf=MLPClassifier(hidden_layer_sizes=3 ,learning_rate_init=l_r, activation=\"tanh\" ,random_state=101)\n",
        "    clf.fit(x_train,y_train)\n",
        "    y_pre=clf.predict(x_test)\n",
        "    x=accuracy_score(y_test,y_pred=y_pre)\n",
        "    print(l_r,':',x)\n",
        "    if acc<x:\n",
        "        acc=x\n",
        "        l_r_f=l_r\n",
        "print(\"the best learning rate is\",l_r_f)\n",
        "print(\"the accuracy is \",acc)\n"
      ]
    }
  ]
}