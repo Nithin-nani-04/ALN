{
  "nbformat": 4,
  "nbformat_minor": 0,
  "metadata": {
    "colab": {
      "provenance": [],
      "authorship_tag": "ABX9TyM/BF+Sr3jXfZR/lSgrs0eu",
      "include_colab_link": true
    },
    "kernelspec": {
      "name": "python3",
      "display_name": "Python 3"
    },
    "language_info": {
      "name": "python"
    }
  },
  "cells": [
    {
      "cell_type": "markdown",
      "metadata": {
        "id": "view-in-github",
        "colab_type": "text"
      },
      "source": [
        "<a href=\"https://colab.research.google.com/github/Nithin-nani-04/ALN/blob/main/multi-layer_P4.ipynb\" target=\"_parent\"><img src=\"https://colab.research.google.com/assets/colab-badge.svg\" alt=\"Open In Colab\"/></a>"
      ]
    },
    {
      "cell_type": "code",
      "source": [
        "import numpy as np\n",
        "import pandas as pd\n",
        "data=pd.read_csv('/content/HR_comma_sep.csv')\n",
        "from sklearn.metrics import accuracy_score\n",
        "from sklearn.preprocessing import LabelEncoder\n",
        "l_e=LabelEncoder()\n",
        "data['salary']=l_e.fit_transform(data['salary'])\n",
        "data['sales']=l_e.fit_transform(data['sales'])\n",
        "x=data.drop(['left'],axis=1)\n",
        "y=data['left']\n",
        "from sklearn.model_selection import train_test_split\n",
        "x_train,x_test,y_train,y_test=train_test_split(x,y,test_size=0.3,random_state=101)\n",
        "from sklearn.neural_network import MLPClassifier\n",
        "clf=MLPClassifier(hidden_layer_sizes=3 ,learning_rate_init=0.06, activation=\"tanh\" ,random_state=101)\n",
        "clf.fit(x_train,y_train)\n",
        "y_pre=clf.predict(x_test)\n",
        "print(accuracy_score(y_test,y_pred=y_pre))\n"
      ],
      "metadata": {
        "colab": {
          "base_uri": "https://localhost:8080/"
        },
        "id": "xIByEkPiTblm",
        "outputId": "ec06398d-be59-481c-cd01-624e8eae6262"
      },
      "execution_count": 6,
      "outputs": [
        {
          "output_type": "stream",
          "name": "stdout",
          "text": [
            "0.7624444444444445\n"
          ]
        }
      ]
    },
    {
      "cell_type": "code",
      "source": [
        "#using tensorflow as to build network\n",
        "import tensorflow as tf\n",
        "\n",
        "from tf.keras.models import Sequential\n",
        "from tf.keras.layers import Flatten\n",
        "from tf.keras.layers import Dense\n",
        "from tf.keras.layers import Activation\n",
        "model = Sequential([\n",
        "\n",
        "    # reshape 28 row * 28 column data to 28*28 rows\n",
        "    Flatten(input_shape=(28, 28)),\n",
        "    Dense(256, activation='sigmoid'),\n",
        "\n",
        "    # dense layer 2\n",
        "    Dense(128, activation='sigmoid'),\n",
        "\n",
        "      # output layer\n",
        "    Dense(10, activation='sigmoid'),\n",
        "])\n",
        "\n"
      ],
      "metadata": {
        "id": "0ZQtAi1kT3rI"
      },
      "execution_count": null,
      "outputs": []
    }
  ]
}