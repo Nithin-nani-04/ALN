import numpy as np
from sklearn.model_selection import train_test_split
from sklearn.linear_model import LinearRegression
from sklearn.decomposition import PCA
from sklearn.pipeline import Pipeline
from sklearn.metrics import confusion_matrix, accuracy_score

# Generate random spectral data (100 samples, 20 spectral bands)
X = np.random.rand(100, 20)

# Generate random binary labels
y = np.random.randint(0, 2, 100)

# Split the data into training and testing sets
X_train, X_test, y_train, y_test = train_test_split(X, y, test_size=0.2, random_state=42)

# Define a pipeline including PCA and classification model
pca = PCA(n_components=0.95)  # Retain 95% of the variance
classifier = LinearRegression()  # You can replace this with any other classifier

# Create a pipeline with PCA and classification model
pipeline = Pipeline([('pca', pca), ('classifier', classifier)])

# Fit the pipeline on training data
pipeline.fit(X_train, y_train)

# Predict the classes for the testing set
y_pred = np.round(pipeline.predict(X_test))

# Compute confusion matrix
conf_matrix = confusion_matrix(y_test, y_pred)

# Compute accuracy
accuracy = accuracy_score(y_test, y_pred)

print("Example Output:")
print("Confusion Matrix:")
print(conf_matrix)
print("Accuracy:", accuracy)

plt.figure(figsize=(8, 6))
sns.heatmap(conf_matrix, annot=True, cmap='Blues', fmt='g')
plt.xlabel('Predicted Labels')
plt.ylabel('True Labels')
plt.title('Confusion Matrix')
plt.show()
